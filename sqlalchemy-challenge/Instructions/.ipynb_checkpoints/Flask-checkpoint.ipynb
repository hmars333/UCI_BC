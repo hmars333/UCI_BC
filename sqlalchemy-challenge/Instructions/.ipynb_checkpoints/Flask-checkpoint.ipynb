{
 "cells": [
  {
   "cell_type": "code",
   "execution_count": 151,
   "metadata": {},
   "outputs": [],
   "source": [
    "import datetime as dt\n",
    "import numpy as np\n",
    "import sqlalchemy\n",
    "from sqlalchemy.ext.automap import automap_base\n",
    "from sqlalchemy.orm import Session\n",
    "from sqlalchemy import create_engine, func\n",
    "from flask import Flask, jsonify"
   ]
  },
  {
   "cell_type": "code",
   "execution_count": 152,
   "metadata": {},
   "outputs": [],
   "source": [
    "engine = create_engine(\"sqlite:///Resources/hawaii.sqlite\")"
   ]
  },
  {
   "cell_type": "code",
   "execution_count": 153,
   "metadata": {},
   "outputs": [],
   "source": [
    "Base= automap_base()"
   ]
  },
  {
   "cell_type": "code",
   "execution_count": 154,
   "metadata": {},
   "outputs": [
    {
     "data": {
      "text/plain": [
       "['measurement', 'station']"
      ]
     },
     "execution_count": 154,
     "metadata": {},
     "output_type": "execute_result"
    }
   ],
   "source": [
    "Base.prepare(engine, reflect= True)\n",
    "Base.classes.keys()"
   ]
  },
  {
   "cell_type": "code",
   "execution_count": 155,
   "metadata": {},
   "outputs": [],
   "source": [
    "measurement= Base.classes.measurement\n",
    "station= Base.classes.station"
   ]
  },
  {
   "cell_type": "code",
   "execution_count": 156,
   "metadata": {},
   "outputs": [],
   "source": [
    "app= Flask(__name__)"
   ]
  },
  {
   "cell_type": "code",
   "execution_count": 157,
   "metadata": {},
   "outputs": [],
   "source": [
    "@app.route(\"/\")\n",
    "def Welcome():\n",
    "    \"\"\"list all available routes.\"\"\"\n",
    "    return(\n",
    "          f\"Available Routes: <br/>\"\n",
    "          f\"/api/v1.0/precipitation<br/>\"\n",
    "          f\"Dates and precipitation values\"\n",
    "          f\"/api/v1.0/stations<br/>\"\n",
    "          f\"List of all Stations\"\n",
    "          f\"/api/v1.0/tobs<br/>\"\n",
    "          f\"List of total temperature observations for past year\"\n",
    "          f\"/api/v1.0/<start><br/>\"\n",
    "          f\"Min, Max and Average temps for given year\"\n",
    "          f\"/api/v1.0/<start>/<end><br/>\"\n",
    "          \n",
    "      )\n",
    "\n",
    "        "
   ]
  },
  {
   "cell_type": "code",
   "execution_count": 158,
   "metadata": {},
   "outputs": [],
   "source": [
    "@app.route(\"/api/v1.0/precipitation\")\n",
    "def precipitation():\n",
    "    \"\"\"Dates and Precipitation Values.\"\"\"\n",
    "    results = session.query(Measurement.date, Measurement.tobs).\\\n",
    "        filter(Measurement.date >= \"2016-08-24\", Measurement.date <= \"2017-08-23\").\\\n",
    "        all()\n",
    "\n",
    "    \n",
    "    precipitation_list = [results]\n",
    "\n",
    "    return jsonify(precipitation_list)"
   ]
  },
  {
   "cell_type": "code",
   "execution_count": 150,
   "metadata": {},
   "outputs": [],
   "source": [
    "@app.route(\"/api/v1.0/stations\")\n",
    "def stations():\n",
    "    session= Session(engine)\n",
    "    \"\"\"List of all Stations\"\"\"\n",
    "    stations= session.query(Station.name, Station.station).all()\n",
    "    session.close()\n",
    "    all_stations= list(np.ravel(stations))\n",
    "    return jsonify(all_stations)"
   ]
  },
  {
   "cell_type": "code",
   "execution_count": 160,
   "metadata": {},
   "outputs": [],
   "source": [
    "@app.route(\"/api/v1.0/tobs\")\n",
    "def temperatureobservations():\n",
    "    session= Session(engine)\n",
    "    \"\"\"List of all previous year temperature observations.\"\"\"\n",
    "    results= session.query(Station.name, MEasurement.date, Measurement.tobs).\\\n",
    "        filter(Measurement.date >= \"2016-08-24\", Measurement.date <= \"2017-08-23\").all()\n",
    "    session.close()\n",
    "   \n",
    "    tobs_list = []\n",
    "    for result in results:\n",
    "        row = {}\n",
    "        row[\"Station\"] = result[0]\n",
    "        row[\"Date\"] = result[1]\n",
    "        row[\"Temperature\"] = int(result[2])\n",
    "        tobs_list.append(row)\n",
    "    return jsonify(tobs_list)\n",
    "    \n"
   ]
  },
  {
   "cell_type": "code",
   "execution_count": null,
   "metadata": {},
   "outputs": [],
   "source": [
    "@app.route(\"/api/v1.0/<start>\")\n",
    "def start():\n",
    "    session= Session(engine)\n",
    "    \"\"\"trip start\"\"\"\n",
    "    "
   ]
  },
  {
   "cell_type": "code",
   "execution_count": null,
   "metadata": {},
   "outputs": [],
   "source": [
    "@app.route(\"/api/v1.0/<start>/<end>\")\n",
    "def end():\n",
    "    session= Session(engine)\n",
    "    \"\"\"trip start and end\"\"\""
   ]
  }
 ],
 "metadata": {
  "kernelspec": {
   "display_name": "Python [conda env:.conda-PythonData] *",
   "language": "python",
   "name": "conda-env-.conda-PythonData-py"
  },
  "language_info": {
   "codemirror_mode": {
    "name": "ipython",
    "version": 3
   },
   "file_extension": ".py",
   "mimetype": "text/x-python",
   "name": "python",
   "nbconvert_exporter": "python",
   "pygments_lexer": "ipython3",
   "version": "3.6.9"
  }
 },
 "nbformat": 4,
 "nbformat_minor": 2
}
