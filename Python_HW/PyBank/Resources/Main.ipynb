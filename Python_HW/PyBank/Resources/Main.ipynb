{
 "cells": [
  {
   "cell_type": "code",
   "execution_count": 4,
   "metadata": {},
   "outputs": [],
   "source": [
    "import os\n",
    "import csv"
   ]
  },
  {
   "cell_type": "code",
   "execution_count": 38,
   "metadata": {},
   "outputs": [
    {
     "name": "stdout",
     "output_type": "stream",
     "text": [
      "CSV row: ['Date', 'Profit/Losses']\n",
      "CSV row: ['Jan-2010', '867884']\n",
      "CSV row: ['Feb-2010', '984655']\n",
      "CSV row: ['Mar-2010', '322013']\n",
      "CSV row: ['Apr-2010', '-69417']\n",
      "CSV row: ['May-2010', '310503']\n",
      "CSV row: ['Jun-2010', '522857']\n",
      "CSV row: ['Jul-2010', '1033096']\n",
      "CSV row: ['Aug-2010', '604885']\n",
      "CSV row: ['Sep-2010', '-216386']\n",
      "CSV row: ['Oct-2010', '477532']\n",
      "CSV row: ['Nov-2010', '893810']\n",
      "CSV row: ['Dec-2010', '-80353']\n",
      "CSV row: ['Jan-2011', '779806']\n",
      "CSV row: ['Feb-2011', '-335203']\n",
      "CSV row: ['Mar-2011', '697845']\n",
      "CSV row: ['Apr-2011', '793163']\n",
      "CSV row: ['May-2011', '485070']\n",
      "CSV row: ['Jun-2011', '584122']\n",
      "CSV row: ['Jul-2011', '62729']\n",
      "CSV row: ['Aug-2011', '668179']\n",
      "CSV row: ['Sep-2011', '899906']\n",
      "CSV row: ['Oct-2011', '834719']\n",
      "CSV row: ['Nov-2011', '132003']\n",
      "CSV row: ['Dec-2011', '309978']\n",
      "CSV row: ['Jan-2012', '-755566']\n",
      "CSV row: ['Feb-2012', '1170593']\n",
      "CSV row: ['Mar-2012', '252788']\n",
      "CSV row: ['Apr-2012', '1151518']\n",
      "CSV row: ['May-2012', '817256']\n",
      "CSV row: ['Jun-2012', '570757']\n",
      "CSV row: ['Jul-2012', '506702']\n",
      "CSV row: ['Aug-2012', '-1022534']\n",
      "CSV row: ['Sep-2012', '475062']\n",
      "CSV row: ['Oct-2012', '779976']\n",
      "CSV row: ['Nov-2012', '144175']\n",
      "CSV row: ['Dec-2012', '542494']\n",
      "CSV row: ['Jan-2013', '359333']\n",
      "CSV row: ['Feb-2013', '321469']\n",
      "CSV row: ['Mar-2013', '67780']\n",
      "CSV row: ['Apr-2013', '471435']\n",
      "CSV row: ['May-2013', '565603']\n",
      "CSV row: ['Jun-2013', '872480']\n",
      "CSV row: ['Jul-2013', '789480']\n",
      "CSV row: ['Aug-2013', '999942']\n",
      "CSV row: ['Sep-2013', '-1196225']\n",
      "CSV row: ['Oct-2013', '268997']\n",
      "CSV row: ['Nov-2013', '-687986']\n",
      "CSV row: ['Dec-2013', '1150461']\n",
      "CSV row: ['Jan-2014', '682458']\n",
      "CSV row: ['Feb-2014', '617856']\n",
      "CSV row: ['Mar-2014', '824098']\n",
      "CSV row: ['Apr-2014', '581943']\n",
      "CSV row: ['May-2014', '132864']\n",
      "CSV row: ['Jun-2014', '448062']\n",
      "CSV row: ['Jul-2014', '689161']\n",
      "CSV row: ['Aug-2014', '800701']\n",
      "CSV row: ['Sep-2014', '1166643']\n",
      "CSV row: ['Oct-2014', '947333']\n",
      "CSV row: ['Nov-2014', '578668']\n",
      "CSV row: ['Dec-2014', '988505']\n",
      "CSV row: ['Jan-2015', '1139715']\n",
      "CSV row: ['Feb-2015', '1029471']\n",
      "CSV row: ['Mar-2015', '687533']\n",
      "CSV row: ['Apr-2015', '-524626']\n",
      "CSV row: ['May-2015', '158620']\n",
      "CSV row: ['Jun-2015', '87795']\n",
      "CSV row: ['Jul-2015', '423389']\n",
      "CSV row: ['Aug-2015', '840723']\n",
      "CSV row: ['Sep-2015', '568529']\n",
      "CSV row: ['Oct-2015', '332067']\n",
      "CSV row: ['Nov-2015', '989499']\n",
      "CSV row: ['Dec-2015', '778237']\n",
      "CSV row: ['Jan-2016', '650000']\n",
      "CSV row: ['Feb-2016', '-1100387']\n",
      "CSV row: ['Mar-2016', '-174946']\n",
      "CSV row: ['Apr-2016', '757143']\n",
      "CSV row: ['May-2016', '445709']\n",
      "CSV row: ['Jun-2016', '712961']\n",
      "CSV row: ['Jul-2016', '-1163797']\n",
      "CSV row: ['Aug-2016', '569899']\n",
      "CSV row: ['Sep-2016', '768450']\n",
      "CSV row: ['Oct-2016', '102685']\n",
      "CSV row: ['Nov-2016', '795914']\n",
      "CSV row: ['Dec-2016', '60988']\n",
      "CSV row: ['Jan-2017', '138230']\n",
      "CSV row: ['Feb-2017', '671099']\n"
     ]
    }
   ],
   "source": [
    "with open('budget_data.csv') as file:\n",
    "    csv_reader= csv.reader(file)\n",
    "    for row in csv_reader:\n",
    "        print(\"CSV row: {0}\".format(row))\n"
   ]
  },
  {
   "cell_type": "code",
   "execution_count": 40,
   "metadata": {
    "scrolled": true
   },
   "outputs": [
    {
     "data": {
      "text/plain": [
       "87"
      ]
     },
     "execution_count": 40,
     "metadata": {},
     "output_type": "execute_result"
    }
   ],
   "source": [
    "csv_reader.line_num"
   ]
  },
  {
   "cell_type": "code",
   "execution_count": 54,
   "metadata": {},
   "outputs": [
    {
     "data": {
      "text/plain": [
       "86"
      ]
     },
     "execution_count": 54,
     "metadata": {},
     "output_type": "execute_result"
    }
   ],
   "source": [
    "month_count= 0\n",
    "with open('budget_data.csv') as file:\n",
    "    csv_reader = csv.reader(file)\n",
    "    if csv.Sniffer().has_header:\n",
    "        next(csv_reader)\n",
    "    for row in csv_reader:\n",
    "        month_count += 1\n",
    "month_count"
   ]
  },
  {
   "cell_type": "code",
   "execution_count": 63,
   "metadata": {},
   "outputs": [
    {
     "ename": "AttributeError",
     "evalue": "'_io.TextIOWrapper' object has no attribute 'next'",
     "output_type": "error",
     "traceback": [
      "\u001b[1;31m---------------------------------------------------------------------------\u001b[0m",
      "\u001b[1;31mAttributeError\u001b[0m                            Traceback (most recent call last)",
      "\u001b[1;32m<ipython-input-63-88d7c44d5dcd>\u001b[0m in \u001b[0;36m<module>\u001b[1;34m\u001b[0m\n\u001b[0;32m      1\u001b[0m \u001b[1;32mwith\u001b[0m \u001b[0mopen\u001b[0m\u001b[1;33m(\u001b[0m\u001b[1;34m\"budget_data.csv\"\u001b[0m\u001b[1;33m)\u001b[0m \u001b[1;32mas\u001b[0m \u001b[0mfile\u001b[0m\u001b[1;33m:\u001b[0m\u001b[1;33m\u001b[0m\u001b[1;33m\u001b[0m\u001b[0m\n\u001b[1;32m----> 2\u001b[1;33m     \u001b[0mheaderline\u001b[0m \u001b[1;33m=\u001b[0m \u001b[0mfile\u001b[0m\u001b[1;33m.\u001b[0m\u001b[0mnext\u001b[0m\u001b[1;33m(\u001b[0m\u001b[1;33m)\u001b[0m\u001b[1;33m\u001b[0m\u001b[1;33m\u001b[0m\u001b[0m\n\u001b[0m\u001b[0;32m      3\u001b[0m     \u001b[0mtotal\u001b[0m \u001b[1;33m=\u001b[0m \u001b[1;36m0\u001b[0m\u001b[1;33m\u001b[0m\u001b[1;33m\u001b[0m\u001b[0m\n\u001b[0;32m      4\u001b[0m     \u001b[1;32mfor\u001b[0m \u001b[0mrow\u001b[0m \u001b[1;32min\u001b[0m \u001b[0mcsv\u001b[0m\u001b[1;33m.\u001b[0m\u001b[0mreader\u001b[0m\u001b[1;33m(\u001b[0m\u001b[0mfile\u001b[0m\u001b[1;33m)\u001b[0m\u001b[1;33m:\u001b[0m\u001b[1;33m\u001b[0m\u001b[1;33m\u001b[0m\u001b[0m\n\u001b[0;32m      5\u001b[0m         \u001b[0mtotal\u001b[0m \u001b[1;33m+=\u001b[0m \u001b[0mint\u001b[0m\u001b[1;33m(\u001b[0m\u001b[0mrow\u001b[0m\u001b[1;33m[\u001b[0m\u001b[1;36m1\u001b[0m\u001b[1;33m]\u001b[0m\u001b[1;33m)\u001b[0m\u001b[1;33m\u001b[0m\u001b[1;33m\u001b[0m\u001b[0m\n",
      "\u001b[1;31mAttributeError\u001b[0m: '_io.TextIOWrapper' object has no attribute 'next'"
     ]
    }
   ],
   "source": [
    "PL_total= 0\n",
    "for row in csv_reader:\n",
    "    \n",
    "\n",
    "\n",
    "\n",
    "\n"
   ]
  },
  {
   "cell_type": "code",
   "execution_count": null,
   "metadata": {},
   "outputs": [],
   "source": []
  }
 ],
 "metadata": {
  "kernelspec": {
   "display_name": "Python [conda env:.conda-PythonData] *",
   "language": "python",
   "name": "conda-env-.conda-PythonData-py"
  },
  "language_info": {
   "codemirror_mode": {
    "name": "ipython",
    "version": 3
   },
   "file_extension": ".py",
   "mimetype": "text/x-python",
   "name": "python",
   "nbconvert_exporter": "python",
   "pygments_lexer": "ipython3",
   "version": "3.6.9"
  }
 },
 "nbformat": 4,
 "nbformat_minor": 2
}
